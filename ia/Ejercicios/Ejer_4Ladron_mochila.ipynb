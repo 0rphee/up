{
 "cells": [
  {
   "cell_type": "code",
   "execution_count": 4,
   "metadata": {},
   "outputs": [],
   "source": [
    "def maximo(capacidad_max: int, nombres: list[str], pesos: list[int], valores: list[int]):\n",
    "    razonElementos: list[float] = [ valor/peso for peso, valor in zip(pesos,valores) ]\n",
    "\n",
    "    juntos = list(zip(nombres, pesos, valores, razonElementos) )\n",
    "    juntos.sort(key=lambda r: r[3], reverse=True)\n",
    "\n",
    "    total_conseguido = 0\n",
    "    final = []\n",
    "    for (nom, peso, valor, razon) in juntos:\n",
    "        if capacidad_max >= peso:\n",
    "            final.append((nom, peso))\n",
    "            total_conseguido += peso*razon\n",
    "            capacidad_max -= peso\n",
    "        elif capacidad_max < peso:\n",
    "            final.append((nom, capacidad_max))\n",
    "            total_conseguido += capacidad_max*razon\n",
    "            capacidad_max = 0 # capacidad_max - capacidad_max\n",
    "        if capacidad_max == 0:\n",
    "            break\n",
    "    print(\"Lista de los materiales llevados:\",final)\n",
    "    print(\"Total conseguido:\",total_conseguido)\n"
   ]
  },
  {
   "cell_type": "code",
   "execution_count": 5,
   "metadata": {},
   "outputs": [
    {
     "name": "stdout",
     "output_type": "stream",
     "text": [
      "Lista de los materiales llevados: [('Oro', 1), ('Rubies', 2), ('Zafiro', 3), ('Esmeralda', 2)]\n",
      "Total conseguido: 355.0\n"
     ]
    }
   ],
   "source": [
    "objetos = [\"Oro\", \"Rubies\", \"Zafiro\", \"Esmeralda\"]\n",
    "pesos = [1, 2, 3, 4] # peso del elemento (kg)\n",
    "valores = [60, 100, 120, 150] # valor del elemento (miles de pesos)\n",
    "capacidad = 8 # cap mochila (kg)\n",
    "\n",
    "maximo(capacidad, objetos, pesos, valores)\n"
   ]
  }
 ],
 "metadata": {
  "kernelspec": {
   "display_name": "amb",
   "language": "python",
   "name": "python3"
  },
  "language_info": {
   "codemirror_mode": {
    "name": "ipython",
    "version": 3
   },
   "file_extension": ".py",
   "mimetype": "text/x-python",
   "name": "python",
   "nbconvert_exporter": "python",
   "pygments_lexer": "ipython3",
   "version": "3.12.2"
  }
 },
 "nbformat": 4,
 "nbformat_minor": 2
}
