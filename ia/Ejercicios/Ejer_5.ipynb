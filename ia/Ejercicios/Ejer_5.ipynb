{
 "cells": [
  {
   "cell_type": "code",
   "execution_count": 19,
   "id": "c48e0f2b-69fc-49cf-bc4e-3f622c16cab0",
   "metadata": {},
   "outputs": [],
   "source": [
    "# Importamos librerías\n",
    "from queue import PriorityQueue\n",
    "import copy\n",
    "import random\n"
   ]
  },
  {
   "cell_type": "code",
   "execution_count": 20,
   "id": "6dd82308-9dc7-4a19-ac32-b310c6c9579d",
   "metadata": {},
   "outputs": [
    {
     "name": "stdout",
     "output_type": "stream",
     "text": [
      "{'A': (0, 0), 'B': (0, 1), 'C': (0, 2), 'D': (0, 3), 'E': (0, 4), 'F': (1, 0), 'G': (1, 1), 'H': (1, 2), 'I': (1, 3), 'J': (1, 4), 'K': (2, 0), 'L': (2, 1), 'M': (2, 2), 'N': (2, 3), 'Ñ': (2, 4), 'O': (3, 0), 'P': (3, 1), 'Q': (3, 2), 'R': (3, 3), 'S': (3, 4), 'T': (4, 0), 'U': (4, 1), 'V': (4, 2), 'W': (4, 3), 'X': (4, 4)}\n"
     ]
    }
   ],
   "source": [
    "# Definimos el grid original del tablero.\n",
    "grid: list[list[str]] = [\n",
    "    [\"A\", \"B\", \"C\", \"D\", \"E\"],\n",
    "    [\"F\", \"G\", \"H\", \"I\", \"J\"],\n",
    "    [\"K\", \"L\", \"M\", \"N\", \"Ñ\"],\n",
    "    [\"O\", \"P\", \"Q\", \"R\", \"S\"],\n",
    "    [\"T\", \"U\", \"V\", \"W\", \"X\"],\n",
    "]\n",
    "\n",
    "# Definimos la posición de cada coordenada\n",
    "locations: dict[str, tuple[int, int]] = {}\n",
    "\n",
    "# Iterando sobre cada fila y columna del para agregar la letra y su ubicación al diccionario\n",
    "for i, row in enumerate(grid):\n",
    "    for j, letter in enumerate(row):\n",
    "        locations[letter] = (i, j)\n",
    "\n",
    "print(locations)\n"
   ]
  },
  {
   "cell_type": "code",
   "execution_count": 21,
   "id": "dca5f7d3-c6b7-4fee-b0cd-c3e6f4b8488b",
   "metadata": {},
   "outputs": [],
   "source": [
    "# Definimos la función heurística \"h(s)\" que obtiene la distancia de Manhattan\n",
    "def manhattan_distance(start: str, goal: str, locs: dict[str, tuple[int, int]] ):\n",
    "    x1, y1 = locs[start]\n",
    "    x2, y2 = locs[goal]\n",
    "    # Se calcula la distancia absoluta entre las casillas\n",
    "    return abs(x1 - x2) + abs(y1 - y2)"
   ]
  },
  {
   "cell_type": "code",
   "execution_count": 22,
   "id": "40db253a-5eed-47ce-b4f1-ca5dfcdfd494",
   "metadata": {},
   "outputs": [],
   "source": [
    "# Obtenemos los vecinos para cada nodo\n",
    "def get_neighbors(node: str, grd: list[list[str]], locs: dict[str, tuple[int, int]] ):\n",
    "    x, y = locs[node]\n",
    "    neighbors = []\n",
    "    directions = [(-1, 0), (1, 0), (0, -1), (0, 1)]  # Arriba, Abajo, Izq, Der\n",
    "    # Se revisa cada coordenada, a partir de los offsets de 'directions'\n",
    "    for dx, dy in directions:\n",
    "        nx, ny = x + dx, y + dy\n",
    "        # Si la coordenada a revisar no está fuera del borde y no está vacía, entonces la añadimos a los vecinos\n",
    "        if 0 <= nx < len(grd) and 0 <= ny < len(grd[0]) and grd[nx][ny] != ' ':\n",
    "            neighbors.append(grd[nx][ny])\n",
    "    return neighbors"
   ]
  },
  {
   "cell_type": "code",
   "execution_count": 23,
   "id": "1d500d27-473b-4fd2-80e1-149a83a5f096",
   "metadata": {},
   "outputs": [],
   "source": [
    "# Greedy search\n",
    "def greedy_search(start: str, goal: str, grd: list[list[str]], locs: dict[str, tuple[int, int]]):\n",
    "    # Creamos la fila de prioridad\n",
    "    frontier = PriorityQueue()\n",
    "    frontier.put((0, start))\n",
    "    came_from = {start: None}\n",
    "\n",
    "    # Mientras la fila de prioridad NO está vacía\n",
    "    while not frontier.empty():\n",
    "        # Obtenemos la casilla con el menor costo heurístico\n",
    "        current = frontier.get()[1]\n",
    "\n",
    "        print(\"---------------------------\")\n",
    "        print(\"Nodo actual:\", current)\n",
    "\n",
    "        # Si la casilla actual es la meta, se acaba el algoritmo\n",
    "        if current == goal:\n",
    "            break\n",
    "\n",
    "        # Checamos TODOS los vecinos en el nodo actual\n",
    "        for next_node in get_neighbors(current, grd, locs):\n",
    "            if next_node not in came_from:\n",
    "                priority = manhattan_distance(next_node, goal, locs)\n",
    "                frontier.put((priority, next_node))\n",
    "                came_from[next_node] = current\n",
    "\n",
    "    # Reconstruimos el path desde el nodo actual hasta la meta\n",
    "    path = []\n",
    "    while current != start:\n",
    "        path.append(current)\n",
    "        current = came_from[current]\n",
    "    path.append(start)\n",
    "    path.reverse()\n",
    "    return path"
   ]
  },
  {
   "cell_type": "code",
   "execution_count": 24,
   "id": "a78975b6-a052-4830-94b3-ef4a321e299b",
   "metadata": {},
   "outputs": [
    {
     "name": "stdout",
     "output_type": "stream",
     "text": [
      "Grid original: [['A', 'B', 'C', 'D', 'E'], ['F', 'G', 'H', 'I', 'J'], ['K', 'L', 'M', 'N', 'Ñ'], ['O', 'P', 'Q', 'R', 'S'], ['T', 'U', 'V', 'W', 'X']]\n",
      "Las casillas obstáculo son: ['T', 'M', 'E', 'D', 'K', 'R']\n",
      "Grid modificado: [['A', 'B', 'C', ' ', ' '], ['F', 'G', 'H', 'I', 'J'], [' ', 'L', ' ', 'N', 'Ñ'], ['O', 'P', 'Q', ' ', 'S'], [' ', 'U', 'V', 'W', 'X']]\n",
      "---------------------------\n",
      "Nodo actual: A\n",
      "---------------------------\n",
      "Nodo actual: B\n",
      "---------------------------\n",
      "Nodo actual: C\n",
      "---------------------------\n",
      "Nodo actual: H\n",
      "---------------------------\n",
      "Nodo actual: G\n",
      "---------------------------\n",
      "Nodo actual: L\n",
      "---------------------------\n",
      "Nodo actual: P\n",
      "---------------------------\n",
      "Nodo actual: Q\n",
      "Camino final:  ['A', 'B', 'G', 'L', 'P', 'Q']\n"
     ]
    }
   ],
   "source": [
    "# Definición principal del programa\n",
    "def main():\n",
    "    # Ingreso de casillas de inicio y final\n",
    "    inicio = input(\"Ingresar la casilla de inicio: \")\n",
    "    final = input(\"Ingresar la casilla final: \")\n",
    "\n",
    "    # Si son la misma casilla, terminamos, pues no vamos a buscar un camino.\n",
    "    if final == inicio:\n",
    "        print(\"El inicio y el final son iguales, abortando.\")\n",
    "        return\n",
    "\n",
    "    # Creamos copias nuevas de grid y locations, para modificarlos librementes y dejar los tableros originales intactos\n",
    "    new_grid = copy.deepcopy(grid)\n",
    "    new_locs = copy.deepcopy(locations)\n",
    "\n",
    "    # Tomamos una muestra al azar de 6 elementos únicos (que no sean ni la casilla de inicio ni la del final) que servirán como obstáculos.\n",
    "    a_eliminar = random.sample([k for k in new_locs.keys() if k != inicio and k != final], k=6)\n",
    "\n",
    "    print(\"Grid original:\", new_grid)\n",
    "    print(\"Las casillas obstáculo son:\", a_eliminar)\n",
    "\n",
    "    # Eliminamos del new_grid las 6 casillas elegidas al azar\n",
    "    for i, row in enumerate(new_grid):\n",
    "        for j, el in enumerate(row):\n",
    "            if el in a_eliminar:\n",
    "                new_grid[i][j] = \" \"\n",
    "    \n",
    "    print(\"Grid modificado:\", new_grid )\n",
    "\n",
    "    # Se ejecuta la búsqueda y se obtiene el resultado\n",
    "    path = greedy_search(inicio, final, new_grid, new_locs)\n",
    "    print(\"Camino final: \", path)\n",
    "\n",
    "# Ejecución del programa\n",
    "main()"
   ]
  }
 ],
 "metadata": {
  "kernelspec": {
   "display_name": "Python 3 (ipykernel)",
   "language": "python",
   "name": "python3"
  },
  "language_info": {
   "codemirror_mode": {
    "name": "ipython",
    "version": 3
   },
   "file_extension": ".py",
   "mimetype": "text/x-python",
   "name": "python",
   "nbconvert_exporter": "python",
   "pygments_lexer": "ipython3",
   "version": "3.12.2"
  }
 },
 "nbformat": 4,
 "nbformat_minor": 5
}
