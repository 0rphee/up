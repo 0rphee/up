{
 "cells": [
  {
   "cell_type": "code",
   "execution_count": 6,
   "id": "4591c750-369c-44a2-8adf-4c8171a76360",
   "metadata": {},
   "outputs": [],
   "source": [
    "def f1(p: bool):\n",
    "    return p and not p\n",
    "\n",
    "def unidir(p: bool, q: bool):\n",
    "    if p == True and q == False:\n",
    "        return False\n",
    "    else:\n",
    "        return True\n",
    "\n",
    "def f3(p: bool, q: bool):\n",
    "    left = p or not q\n",
    "    return unidir(left, q)\n",
    "    "
   ]
  },
  {
   "cell_type": "code",
   "execution_count": 2,
   "id": "0143dbb2-1207-44ef-b79f-10cf1cac04cf",
   "metadata": {},
   "outputs": [
    {
     "name": "stdin",
     "output_type": "stream",
     "text": [
      "¿La proposición es verdadera o falsa? asd\n"
     ]
    },
    {
     "name": "stdout",
     "output_type": "stream",
     "text": [
      "resultado es:  False\n"
     ]
    }
   ],
   "source": [
    "P = input(\"¿La proposición es verdadera o falsa?\")\n",
    "\n",
    "P = True if P == \"t\" else False\n",
    "\n",
    "val = f1(P)\n",
    "\n",
    "print(\"resultado es: \", val)"
   ]
  },
  {
   "cell_type": "code",
   "execution_count": 10,
   "id": "bd149369-26dd-4c86-a516-5bcfac1b473d",
   "metadata": {},
   "outputs": [
    {
     "name": "stdout",
     "output_type": "stream",
     "text": [
      "unidir\tTrue\tq=True\tres=True\n",
      "unidir\tTrue\tq=False\tres=False\n",
      "unidir\tFalse\tq=True\tres=True\n",
      "unidir\tFalse\tq=False\tres=True\n",
      "\n",
      "f3\tTrue\tq=True\tres=True\n",
      "f3\tTrue\tq=False\tres=False\n",
      "f3\tFalse\tq=True\tres=True\n",
      "f3\tFalse\tq=False\tres=False\n"
     ]
    }
   ],
   "source": [
    "def genTabla(func, nomFunc: str):\n",
    "    for p in (True, False):\n",
    "        for q in (True, False):\n",
    "            res = func(p,q)\n",
    "            print(f\"{nomFunc}\\t{p}\\tq={q}\\tres={res}\")\n",
    "    \n",
    "genTabla(unidir,\"unidir\")\n",
    "print()\n",
    "genTabla(f3,\"f3\")\n"
   ]
  },
  {
   "cell_type": "code",
   "execution_count": null,
   "id": "c9e4587a-c343-41b1-84f0-e61a7f6b9636",
   "metadata": {},
   "outputs": [],
   "source": []
  }
 ],
 "metadata": {
  "kernelspec": {
   "display_name": "Python 3 (ipykernel)",
   "language": "python",
   "name": "python3"
  },
  "language_info": {
   "codemirror_mode": {
    "name": "ipython",
    "version": 3
   },
   "file_extension": ".py",
   "mimetype": "text/x-python",
   "name": "python",
   "nbconvert_exporter": "python",
   "pygments_lexer": "ipython3",
   "version": "3.10.13"
  }
 },
 "nbformat": 4,
 "nbformat_minor": 5
}
