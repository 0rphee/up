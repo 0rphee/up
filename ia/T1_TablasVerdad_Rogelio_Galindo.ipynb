{
 "cells": [
  {
   "cell_type": "code",
   "execution_count": 5,
   "id": "9705bde4-1fc3-49eb-9cbc-ad9a8588b4c3",
   "metadata": {},
   "outputs": [],
   "source": [
    "def unidir(p: bool, q: bool):\n",
    "    if p == True and q == False:\n",
    "        return False\n",
    "    else:\n",
    "        return True\n",
    "\n",
    "def genTabla(func, nomFunc: str):\n",
    "    tVals = (True, False)\n",
    "    for p in tVals:\n",
    "        for q in tVals:\n",
    "            for r in tVals:\n",
    "                res = func(p, q, r)\n",
    "                print(f\"{nomFunc}\\tp={p}\\tq={q}\\tr={r}\\tres={res}\")\n",
    "    print()\n"
   ]
  },
  {
   "cell_type": "code",
   "execution_count": 6,
   "id": "e4a1d442-f63e-4264-ac2d-7802668eb1ef",
   "metadata": {},
   "outputs": [
    {
     "name": "stdout",
     "output_type": "stream",
     "text": [
      "f9\tp=True\tq=True\tr=True\tres=True\n",
      "f9\tp=True\tq=True\tr=False\tres=True\n",
      "f9\tp=True\tq=False\tr=True\tres=True\n",
      "f9\tp=True\tq=False\tr=False\tres=True\n",
      "f9\tp=False\tq=True\tr=True\tres=True\n",
      "f9\tp=False\tq=True\tr=False\tres=True\n",
      "f9\tp=False\tq=False\tr=True\tres=True\n",
      "f9\tp=False\tq=False\tr=False\tres=True\n",
      "\n",
      "f10\tp=True\tq=True\tr=True\tres=True\n",
      "f10\tp=True\tq=True\tr=False\tres=True\n",
      "f10\tp=True\tq=False\tr=True\tres=False\n",
      "f10\tp=True\tq=False\tr=False\tres=False\n",
      "f10\tp=False\tq=True\tr=True\tres=True\n",
      "f10\tp=False\tq=True\tr=False\tres=False\n",
      "f10\tp=False\tq=False\tr=True\tres=True\n",
      "f10\tp=False\tq=False\tr=False\tres=False\n",
      "\n"
     ]
    }
   ],
   "source": [
    "def f9(p: bool, q: bool, r: bool):\n",
    "    left = unidir(p, q)\n",
    "    right = unidir(not p, r)\n",
    "    return left or right\n",
    "\n",
    "def f10(p: bool, q: bool, r: bool):\n",
    "    left = unidir(p, q)\n",
    "    right = unidir(not p, r)\n",
    "    return left and right\n",
    "\n",
    "genTabla(f9, \"f9\")\n",
    "genTabla(f10, \"f10\")\n"
   ]
  }
 ],
 "metadata": {
  "kernelspec": {
   "display_name": "Python 3 (ipykernel)",
   "language": "python",
   "name": "python3"
  },
  "language_info": {
   "codemirror_mode": {
    "name": "ipython",
    "version": 3
   },
   "file_extension": ".py",
   "mimetype": "text/x-python",
   "name": "python",
   "nbconvert_exporter": "python",
   "pygments_lexer": "ipython3",
   "version": "3.10.13"
  }
 },
 "nbformat": 4,
 "nbformat_minor": 5
}
