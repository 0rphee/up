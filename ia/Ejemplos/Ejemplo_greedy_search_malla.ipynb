{
 "cells": [
  {
   "cell_type": "code",
   "execution_count": 1,
   "id": "c48e0f2b-69fc-49cf-bc4e-3f622c16cab0",
   "metadata": {},
   "outputs": [],
   "source": [
    "# Importamos librerías\n",
    "from queue import PriorityQueue"
   ]
  },
  {
   "cell_type": "code",
   "execution_count": 24,
   "id": "6dd82308-9dc7-4a19-ac32-b310c6c9579d",
   "metadata": {},
   "outputs": [],
   "source": [
    "# Definimos la malla\n",
    "grid = [\n",
    "    ['A', 'B', 'C', 'D'],\n",
    "    ['E', ' ', 'F', 'G'],\n",
    "    ['H', ' ', ' ', 'I'],\n",
    "    ['J', 'K', ' ', 'L']\n",
    "]"
   ]
  },
  {
   "cell_type": "code",
   "execution_count": 25,
   "id": "d4d190ce-205d-41e3-b042-4bb2a549deb9",
   "metadata": {},
   "outputs": [],
   "source": [
    "# Definimos la posición de cada coordenada\n",
    "locations = {\n",
    "    'A': (0, 0), 'B': (0, 1), 'C': (0, 2), 'D': (0, 3),\n",
    "    'E': (1, 0), 'F': (1, 2), 'G': (1, 3),\n",
    "    'H': (2, 0), 'I': (2, 3),\n",
    "    'J': (3, 0), 'K': (3, 1), 'L': (3, 3)\n",
    "}"
   ]
  },
  {
   "cell_type": "code",
   "execution_count": 26,
   "id": "dca5f7d3-c6b7-4fee-b0cd-c3e6f4b8488b",
   "metadata": {},
   "outputs": [],
   "source": [
    "# Definimos la función heurística \"h(s)\" que obtiene la distancia de Manhattan\n",
    "def manhattan_distance(start, goal):\n",
    "    x1, y1 = locations[start]\n",
    "    x2, y2 = locations[goal]\n",
    "    return abs(x1 - x2) + abs(y1 - y2)"
   ]
  },
  {
   "cell_type": "code",
   "execution_count": 27,
   "id": "40db253a-5eed-47ce-b4f1-ca5dfcdfd494",
   "metadata": {},
   "outputs": [],
   "source": [
    "# Obtenemos los vecinos para cada nodo\n",
    "def get_neighbors(node):\n",
    "    x, y = locations[node]\n",
    "    neighbors = []\n",
    "    directions = [(-1, 0), (1, 0), (0, -1), (0, 1)]  # Arriba, Abajo, Izq, Der\n",
    "    for dx, dy in directions:\n",
    "        nx, ny = x + dx, y + dy\n",
    "        if 0 <= nx < len(grid) and 0 <= ny < len(grid[0]) and grid[nx][ny] != ' ':\n",
    "            neighbors.append(grid[nx][ny])\n",
    "    return neighbors"
   ]
  },
  {
   "cell_type": "code",
   "execution_count": 58,
   "id": "1d500d27-473b-4fd2-80e1-149a83a5f096",
   "metadata": {},
   "outputs": [],
   "source": [
    "# Greedy search\n",
    "def greedy_search(start, goal):\n",
    "    # Creamos la fila de prioridad\n",
    "    frontier = PriorityQueue()\n",
    "    frontier.put((0, start))\n",
    "    came_from = {start: None}\n",
    "\n",
    "    # Mientras la fila de prioridad NO está vacía\n",
    "    while not frontier.empty():\n",
    "        # Obtenemos la casilla con el menor costo heurístico\n",
    "        current = frontier.get()[1]\n",
    "\n",
    "        print(\"---------------------------\")\n",
    "        print(\"Nodo actual:\", current)\n",
    "\n",
    "        # Si la casilla actual es la meta, se acaba el algoritmo\n",
    "        if current == goal:\n",
    "            break\n",
    "\n",
    "        # Checamos TODOS los vecinos en el nodo actual\n",
    "        for next_node in get_neighbors(current):\n",
    "            if next_node not in came_from:\n",
    "                priority = manhattan_distance(next_node, goal)\n",
    "                frontier.put((priority, next_node))\n",
    "                came_from[next_node] = current\n",
    "\n",
    "    # Reconstruimos el path desde el nodo actual hasta la meta\n",
    "    path = []\n",
    "    while current != start:\n",
    "        path.append(current)\n",
    "        current = came_from[current]\n",
    "    path.append(start)\n",
    "    path.reverse()\n",
    "    return path"
   ]
  },
  {
   "cell_type": "code",
   "execution_count": 59,
   "id": "a78975b6-a052-4830-94b3-ef4a321e299b",
   "metadata": {},
   "outputs": [
    {
     "name": "stdout",
     "output_type": "stream",
     "text": [
      "---------------------------\n",
      "Nodo actual: L\n",
      "---------------------------\n",
      "Nodo actual: I\n",
      "---------------------------\n",
      "Nodo actual: G\n",
      "---------------------------\n",
      "Nodo actual: F\n",
      "---------------------------\n",
      "Nodo actual: C\n",
      "---------------------------\n",
      "Nodo actual: B\n",
      "---------------------------\n",
      "Nodo actual: A\n",
      "---------------------------\n",
      "Nodo actual: E\n",
      "---------------------------\n",
      "Nodo actual: H\n",
      "---------------------------\n",
      "Nodo actual: J\n",
      "---------------------------\n",
      "Nodo actual: K\n"
     ]
    },
    {
     "data": {
      "text/plain": [
       "['L', 'I', 'G', 'F', 'C', 'B', 'A', 'E', 'H', 'J', 'K']"
      ]
     },
     "execution_count": 59,
     "metadata": {},
     "output_type": "execute_result"
    }
   ],
   "source": [
    "# Prueba\n",
    "path = greedy_search('L', 'K')\n",
    "path"
   ]
  },
  {
   "cell_type": "code",
   "execution_count": null,
   "id": "7a245231-1ddf-49fb-aaa9-eb98d829634b",
   "metadata": {},
   "outputs": [],
   "source": [
    "\n"
   ]
  },
  {
   "cell_type": "code",
   "execution_count": null,
   "id": "c4a1278f-80e6-44e5-b3cb-b1d88ccf39a4",
   "metadata": {},
   "outputs": [],
   "source": []
  },
  {
   "cell_type": "code",
   "execution_count": null,
   "id": "36cedb55-7b5f-4896-ba48-3447b5b1210e",
   "metadata": {},
   "outputs": [],
   "source": []
  }
 ],
 "metadata": {
  "kernelspec": {
   "display_name": "Python 3 (ipykernel)",
   "language": "python",
   "name": "python3"
  },
  "language_info": {
   "codemirror_mode": {
    "name": "ipython",
    "version": 3
   },
   "file_extension": ".py",
   "mimetype": "text/x-python",
   "name": "python",
   "nbconvert_exporter": "python",
   "pygments_lexer": "ipython3",
   "version": "3.10.13"
  }
 },
 "nbformat": 4,
 "nbformat_minor": 5
}
