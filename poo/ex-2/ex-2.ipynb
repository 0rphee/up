{
 "cells": [
  {
   "cell_type": "code",
   "execution_count": 108,
   "metadata": {},
   "outputs": [],
   "source": [
    "#Importar librerias y el set de datos que bajaron de Moodle (carpetas_2022.csv)\n",
    "import pandas as pd\n",
    "df = pd.read_csv(\"carpetas_2022.csv\")"
   ]
  },
  {
   "cell_type": "code",
   "execution_count": 109,
   "metadata": {},
   "outputs": [
    {
     "data": {
      "text/html": [
       "<div>\n",
       "<style scoped>\n",
       "    .dataframe tbody tr th:only-of-type {\n",
       "        vertical-align: middle;\n",
       "    }\n",
       "\n",
       "    .dataframe tbody tr th {\n",
       "        vertical-align: top;\n",
       "    }\n",
       "\n",
       "    .dataframe thead th {\n",
       "        text-align: right;\n",
       "    }\n",
       "</style>\n",
       "<table border=\"1\" class=\"dataframe\">\n",
       "  <thead>\n",
       "    <tr style=\"text-align: right;\">\n",
       "      <th></th>\n",
       "      <th>ao_hechos</th>\n",
       "      <th>mes_hechos</th>\n",
       "      <th>fecha_hechos</th>\n",
       "      <th>hora_hechos</th>\n",
       "      <th>ao_inicio</th>\n",
       "      <th>mes_inicio</th>\n",
       "      <th>fecha_inicio</th>\n",
       "      <th>hora_inicio</th>\n",
       "      <th>delito</th>\n",
       "      <th>fiscalia</th>\n",
       "      <th>agencia</th>\n",
       "      <th>unidad_investigacion</th>\n",
       "      <th>categoria_delito</th>\n",
       "      <th>competencia</th>\n",
       "      <th>alcaldia_hechos</th>\n",
       "      <th>municipio_hechos</th>\n",
       "      <th>colonia_datos</th>\n",
       "      <th>fgj_colonia_registro</th>\n",
       "      <th>longitud</th>\n",
       "      <th>latitud</th>\n",
       "    </tr>\n",
       "  </thead>\n",
       "  <tbody>\n",
       "    <tr>\n",
       "      <th>0</th>\n",
       "      <td>2021.0</td>\n",
       "      <td>Diciembre</td>\n",
       "      <td>2021-12-31</td>\n",
       "      <td>23:00:00</td>\n",
       "      <td>2022</td>\n",
       "      <td>Enero</td>\n",
       "      <td>2022-01-01</td>\n",
       "      <td>00:03:00</td>\n",
       "      <td>ROBO A TRANSEUNTE EN VIA PUBLICA CON VIOLENCIA</td>\n",
       "      <td>FISCALÍA DE INVESTIGACIÓN TERRITORIAL EN ALVAR...</td>\n",
       "      <td>AO-3</td>\n",
       "      <td>UI-1CD</td>\n",
       "      <td>ROBO A TRANSEUNTE EN VÍA PÚBLICA CON Y SIN VIO...</td>\n",
       "      <td>FUERO COMUN</td>\n",
       "      <td>ALVARO OBREGON</td>\n",
       "      <td>NaN</td>\n",
       "      <td>LIBERALES DE 1857</td>\n",
       "      <td>LIBERALES DE 1857</td>\n",
       "      <td>-99.212950</td>\n",
       "      <td>19.394440</td>\n",
       "    </tr>\n",
       "    <tr>\n",
       "      <th>1</th>\n",
       "      <td>2021.0</td>\n",
       "      <td>Octubre</td>\n",
       "      <td>2021-10-29</td>\n",
       "      <td>09:00:00</td>\n",
       "      <td>2022</td>\n",
       "      <td>Enero</td>\n",
       "      <td>2022-01-01</td>\n",
       "      <td>00:06:00</td>\n",
       "      <td>ABUSO DE CONFIANZA</td>\n",
       "      <td>AGENCIA DE DENUNCIA DIGITAL</td>\n",
       "      <td>CEN-1</td>\n",
       "      <td>Unidad de Investigación 1 S/D</td>\n",
       "      <td>DELITO DE BAJO IMPACTO</td>\n",
       "      <td>FUERO COMUN</td>\n",
       "      <td>COYOACAN</td>\n",
       "      <td>NaN</td>\n",
       "      <td>SANTA URSULA COAPA (PBLO)</td>\n",
       "      <td>PUEBLO DE SANTA URSULA COAPA</td>\n",
       "      <td>-99.142140</td>\n",
       "      <td>19.313110</td>\n",
       "    </tr>\n",
       "    <tr>\n",
       "      <th>2</th>\n",
       "      <td>2021.0</td>\n",
       "      <td>Diciembre</td>\n",
       "      <td>2021-12-31</td>\n",
       "      <td>22:30:00</td>\n",
       "      <td>2022</td>\n",
       "      <td>Enero</td>\n",
       "      <td>2022-01-01</td>\n",
       "      <td>00:26:00</td>\n",
       "      <td>LESIONES INTENCIONALES POR ARMA DE FUEGO</td>\n",
       "      <td>FISCALÍA DE INVESTIGACIÓN TERRITORIAL EN GUSTA...</td>\n",
       "      <td>UAT-GAM-3</td>\n",
       "      <td>UI-1SD</td>\n",
       "      <td>LESIONES DOLOSAS POR DISPARO DE ARMA DE FUEGO</td>\n",
       "      <td>FUERO COMUN</td>\n",
       "      <td>VENUSTIANO CARRANZA</td>\n",
       "      <td>NaN</td>\n",
       "      <td>MORELOS I</td>\n",
       "      <td>MORELOS</td>\n",
       "      <td>-99.121390</td>\n",
       "      <td>19.446150</td>\n",
       "    </tr>\n",
       "    <tr>\n",
       "      <th>3</th>\n",
       "      <td>2021.0</td>\n",
       "      <td>Diciembre</td>\n",
       "      <td>2021-12-31</td>\n",
       "      <td>23:11:00</td>\n",
       "      <td>2022</td>\n",
       "      <td>Enero</td>\n",
       "      <td>2022-01-01</td>\n",
       "      <td>00:29:00</td>\n",
       "      <td>DAÑO EN PROPIEDAD AJENA CULPOSA POR TRÁNSITO V...</td>\n",
       "      <td>FISCALÍA DE INVESTIGACIÓN TERRITORIAL EN BENIT...</td>\n",
       "      <td>BJ-2</td>\n",
       "      <td>UI-1CD</td>\n",
       "      <td>DELITO DE BAJO IMPACTO</td>\n",
       "      <td>FUERO COMUN</td>\n",
       "      <td>BENITO JUAREZ</td>\n",
       "      <td>NaN</td>\n",
       "      <td>DEL VALLE VII</td>\n",
       "      <td>DEL VALLE CENTRO</td>\n",
       "      <td>-99.174950</td>\n",
       "      <td>19.369630</td>\n",
       "    </tr>\n",
       "    <tr>\n",
       "      <th>4</th>\n",
       "      <td>2021.0</td>\n",
       "      <td>Diciembre</td>\n",
       "      <td>2021-12-31</td>\n",
       "      <td>21:30:00</td>\n",
       "      <td>2022</td>\n",
       "      <td>Enero</td>\n",
       "      <td>2022-01-01</td>\n",
       "      <td>00:35:00</td>\n",
       "      <td>VIOLENCIA FAMILIAR</td>\n",
       "      <td>FISCALÍA DE INVESTIGACIÓN TERRITORIAL EN GUSTA...</td>\n",
       "      <td>UAT-GAM-3</td>\n",
       "      <td>UI-1SD</td>\n",
       "      <td>DELITO DE BAJO IMPACTO</td>\n",
       "      <td>FUERO COMUN</td>\n",
       "      <td>GUSTAVO A. MADERO</td>\n",
       "      <td>NaN</td>\n",
       "      <td>LA FORESTAL</td>\n",
       "      <td>FORESTAL</td>\n",
       "      <td>-99.129900</td>\n",
       "      <td>19.559720</td>\n",
       "    </tr>\n",
       "    <tr>\n",
       "      <th>...</th>\n",
       "      <td>...</td>\n",
       "      <td>...</td>\n",
       "      <td>...</td>\n",
       "      <td>...</td>\n",
       "      <td>...</td>\n",
       "      <td>...</td>\n",
       "      <td>...</td>\n",
       "      <td>...</td>\n",
       "      <td>...</td>\n",
       "      <td>...</td>\n",
       "      <td>...</td>\n",
       "      <td>...</td>\n",
       "      <td>...</td>\n",
       "      <td>...</td>\n",
       "      <td>...</td>\n",
       "      <td>...</td>\n",
       "      <td>...</td>\n",
       "      <td>...</td>\n",
       "      <td>...</td>\n",
       "      <td>...</td>\n",
       "    </tr>\n",
       "    <tr>\n",
       "      <th>258968</th>\n",
       "      <td>2023.0</td>\n",
       "      <td>Enero</td>\n",
       "      <td>2023-01-31</td>\n",
       "      <td>22:35:00</td>\n",
       "      <td>2023</td>\n",
       "      <td>Enero</td>\n",
       "      <td>2023-01-31</td>\n",
       "      <td>23:55:14</td>\n",
       "      <td>ROBO A NEGOCIO SIN VIOLENCIA POR FARDEROS (TIE...</td>\n",
       "      <td>FISCALÍA DE JUSTICIA PENAL PARA ADOLESCENTES</td>\n",
       "      <td>AEJPA</td>\n",
       "      <td>1 CON DETENIDO</td>\n",
       "      <td>DELITO DE BAJO IMPACTO</td>\n",
       "      <td>FUERO COMUN</td>\n",
       "      <td>GUSTAVO A. MADERO</td>\n",
       "      <td>NaN</td>\n",
       "      <td>GUADALUPE TEPEYAC</td>\n",
       "      <td>GUADALUPE TEPEYAC</td>\n",
       "      <td>-99.121970</td>\n",
       "      <td>19.472222</td>\n",
       "    </tr>\n",
       "    <tr>\n",
       "      <th>258969</th>\n",
       "      <td>2023.0</td>\n",
       "      <td>Enero</td>\n",
       "      <td>2023-01-09</td>\n",
       "      <td>12:00:00</td>\n",
       "      <td>2023</td>\n",
       "      <td>Enero</td>\n",
       "      <td>2023-01-31</td>\n",
       "      <td>23:57:48</td>\n",
       "      <td>ABUSO DE CONFIANZA</td>\n",
       "      <td>FISCALÍA DE INVESTIGACIÓN TERRITORIAL EN TLALPAN</td>\n",
       "      <td>UAT-TLP-3</td>\n",
       "      <td>UI-1SD</td>\n",
       "      <td>DELITO DE BAJO IMPACTO</td>\n",
       "      <td>FUERO COMUN</td>\n",
       "      <td>TLALPAN</td>\n",
       "      <td>NaN</td>\n",
       "      <td>LOS VOLCANES</td>\n",
       "      <td>LOS VOLCANES</td>\n",
       "      <td>-99.174285</td>\n",
       "      <td>19.269199</td>\n",
       "    </tr>\n",
       "    <tr>\n",
       "      <th>258970</th>\n",
       "      <td>2022.0</td>\n",
       "      <td>Diciembre</td>\n",
       "      <td>2022-12-30</td>\n",
       "      <td>10:45:00</td>\n",
       "      <td>2023</td>\n",
       "      <td>Enero</td>\n",
       "      <td>2023-01-31</td>\n",
       "      <td>23:57:57</td>\n",
       "      <td>FRAUDE</td>\n",
       "      <td>AGENCIA DE DENUNCIA DIGITAL</td>\n",
       "      <td>CEN-A</td>\n",
       "      <td>UI-1SD</td>\n",
       "      <td>DELITO DE BAJO IMPACTO</td>\n",
       "      <td>FUERO COMUN</td>\n",
       "      <td>CUAUHTEMOC</td>\n",
       "      <td>NaN</td>\n",
       "      <td>CENTRO IV</td>\n",
       "      <td>CENTRO</td>\n",
       "      <td>-99.134771</td>\n",
       "      <td>19.429240</td>\n",
       "    </tr>\n",
       "    <tr>\n",
       "      <th>258971</th>\n",
       "      <td>2023.0</td>\n",
       "      <td>Enero</td>\n",
       "      <td>2023-01-31</td>\n",
       "      <td>17:40:00</td>\n",
       "      <td>2023</td>\n",
       "      <td>Enero</td>\n",
       "      <td>2023-01-31</td>\n",
       "      <td>23:59:28</td>\n",
       "      <td>VIOLENCIA FAMILIAR</td>\n",
       "      <td>FISCALÍA DE INVESTIGACIÓN TERRITORIAL EN MILPA...</td>\n",
       "      <td>UAT-MIL-1</td>\n",
       "      <td>UI-1SD</td>\n",
       "      <td>DELITO DE BAJO IMPACTO</td>\n",
       "      <td>FUERO COMUN</td>\n",
       "      <td>MILPA ALTA</td>\n",
       "      <td>NaN</td>\n",
       "      <td>SAN ANTONIO TECOMITL (PBLO)</td>\n",
       "      <td>TENANTITLA (SAN ANTONIO TECOMITL)</td>\n",
       "      <td>-99.001603</td>\n",
       "      <td>19.216952</td>\n",
       "    </tr>\n",
       "    <tr>\n",
       "      <th>258972</th>\n",
       "      <td>2023.0</td>\n",
       "      <td>Enero</td>\n",
       "      <td>2023-01-31</td>\n",
       "      <td>13:10:00</td>\n",
       "      <td>2023</td>\n",
       "      <td>Enero</td>\n",
       "      <td>2023-01-31</td>\n",
       "      <td>23:59:41</td>\n",
       "      <td>FRAUDE</td>\n",
       "      <td>FISCALÍA DE INVESTIGACIÓN TERRITORIAL EN IZTAC...</td>\n",
       "      <td>UAT-IZC-2</td>\n",
       "      <td>UI-1SD</td>\n",
       "      <td>DELITO DE BAJO IMPACTO</td>\n",
       "      <td>FUERO COMUN</td>\n",
       "      <td>IZTACALCO</td>\n",
       "      <td>NaN</td>\n",
       "      <td>SANTA ANITA</td>\n",
       "      <td>SANTA ANITA</td>\n",
       "      <td>-99.118786</td>\n",
       "      <td>19.402165</td>\n",
       "    </tr>\n",
       "  </tbody>\n",
       "</table>\n",
       "<p>258973 rows × 20 columns</p>\n",
       "</div>"
      ],
      "text/plain": [
       "        ao_hechos mes_hechos fecha_hechos hora_hechos  ao_inicio mes_inicio  \\\n",
       "0          2021.0  Diciembre   2021-12-31    23:00:00       2022      Enero   \n",
       "1          2021.0    Octubre   2021-10-29    09:00:00       2022      Enero   \n",
       "2          2021.0  Diciembre   2021-12-31    22:30:00       2022      Enero   \n",
       "3          2021.0  Diciembre   2021-12-31    23:11:00       2022      Enero   \n",
       "4          2021.0  Diciembre   2021-12-31    21:30:00       2022      Enero   \n",
       "...           ...        ...          ...         ...        ...        ...   \n",
       "258968     2023.0      Enero   2023-01-31    22:35:00       2023      Enero   \n",
       "258969     2023.0      Enero   2023-01-09    12:00:00       2023      Enero   \n",
       "258970     2022.0  Diciembre   2022-12-30    10:45:00       2023      Enero   \n",
       "258971     2023.0      Enero   2023-01-31    17:40:00       2023      Enero   \n",
       "258972     2023.0      Enero   2023-01-31    13:10:00       2023      Enero   \n",
       "\n",
       "       fecha_inicio hora_inicio  \\\n",
       "0        2022-01-01    00:03:00   \n",
       "1        2022-01-01    00:06:00   \n",
       "2        2022-01-01    00:26:00   \n",
       "3        2022-01-01    00:29:00   \n",
       "4        2022-01-01    00:35:00   \n",
       "...             ...         ...   \n",
       "258968   2023-01-31    23:55:14   \n",
       "258969   2023-01-31    23:57:48   \n",
       "258970   2023-01-31    23:57:57   \n",
       "258971   2023-01-31    23:59:28   \n",
       "258972   2023-01-31    23:59:41   \n",
       "\n",
       "                                                   delito  \\\n",
       "0          ROBO A TRANSEUNTE EN VIA PUBLICA CON VIOLENCIA   \n",
       "1                                      ABUSO DE CONFIANZA   \n",
       "2                LESIONES INTENCIONALES POR ARMA DE FUEGO   \n",
       "3       DAÑO EN PROPIEDAD AJENA CULPOSA POR TRÁNSITO V...   \n",
       "4                                      VIOLENCIA FAMILIAR   \n",
       "...                                                   ...   \n",
       "258968  ROBO A NEGOCIO SIN VIOLENCIA POR FARDEROS (TIE...   \n",
       "258969                                 ABUSO DE CONFIANZA   \n",
       "258970                                             FRAUDE   \n",
       "258971                                 VIOLENCIA FAMILIAR   \n",
       "258972                                             FRAUDE   \n",
       "\n",
       "                                                 fiscalia    agencia  \\\n",
       "0       FISCALÍA DE INVESTIGACIÓN TERRITORIAL EN ALVAR...       AO-3   \n",
       "1                             AGENCIA DE DENUNCIA DIGITAL      CEN-1   \n",
       "2       FISCALÍA DE INVESTIGACIÓN TERRITORIAL EN GUSTA...  UAT-GAM-3   \n",
       "3       FISCALÍA DE INVESTIGACIÓN TERRITORIAL EN BENIT...       BJ-2   \n",
       "4       FISCALÍA DE INVESTIGACIÓN TERRITORIAL EN GUSTA...  UAT-GAM-3   \n",
       "...                                                   ...        ...   \n",
       "258968       FISCALÍA DE JUSTICIA PENAL PARA ADOLESCENTES      AEJPA   \n",
       "258969   FISCALÍA DE INVESTIGACIÓN TERRITORIAL EN TLALPAN  UAT-TLP-3   \n",
       "258970                        AGENCIA DE DENUNCIA DIGITAL      CEN-A   \n",
       "258971  FISCALÍA DE INVESTIGACIÓN TERRITORIAL EN MILPA...  UAT-MIL-1   \n",
       "258972  FISCALÍA DE INVESTIGACIÓN TERRITORIAL EN IZTAC...  UAT-IZC-2   \n",
       "\n",
       "                 unidad_investigacion  \\\n",
       "0                              UI-1CD   \n",
       "1       Unidad de Investigación 1 S/D   \n",
       "2                              UI-1SD   \n",
       "3                              UI-1CD   \n",
       "4                              UI-1SD   \n",
       "...                               ...   \n",
       "258968                 1 CON DETENIDO   \n",
       "258969                         UI-1SD   \n",
       "258970                         UI-1SD   \n",
       "258971                         UI-1SD   \n",
       "258972                         UI-1SD   \n",
       "\n",
       "                                         categoria_delito  competencia  \\\n",
       "0       ROBO A TRANSEUNTE EN VÍA PÚBLICA CON Y SIN VIO...  FUERO COMUN   \n",
       "1                                  DELITO DE BAJO IMPACTO  FUERO COMUN   \n",
       "2           LESIONES DOLOSAS POR DISPARO DE ARMA DE FUEGO  FUERO COMUN   \n",
       "3                                  DELITO DE BAJO IMPACTO  FUERO COMUN   \n",
       "4                                  DELITO DE BAJO IMPACTO  FUERO COMUN   \n",
       "...                                                   ...          ...   \n",
       "258968                             DELITO DE BAJO IMPACTO  FUERO COMUN   \n",
       "258969                             DELITO DE BAJO IMPACTO  FUERO COMUN   \n",
       "258970                             DELITO DE BAJO IMPACTO  FUERO COMUN   \n",
       "258971                             DELITO DE BAJO IMPACTO  FUERO COMUN   \n",
       "258972                             DELITO DE BAJO IMPACTO  FUERO COMUN   \n",
       "\n",
       "            alcaldia_hechos municipio_hechos                colonia_datos  \\\n",
       "0            ALVARO OBREGON              NaN            LIBERALES DE 1857   \n",
       "1                  COYOACAN              NaN    SANTA URSULA COAPA (PBLO)   \n",
       "2       VENUSTIANO CARRANZA              NaN                    MORELOS I   \n",
       "3             BENITO JUAREZ              NaN                DEL VALLE VII   \n",
       "4         GUSTAVO A. MADERO              NaN                  LA FORESTAL   \n",
       "...                     ...              ...                          ...   \n",
       "258968    GUSTAVO A. MADERO              NaN            GUADALUPE TEPEYAC   \n",
       "258969              TLALPAN              NaN                 LOS VOLCANES   \n",
       "258970           CUAUHTEMOC              NaN                    CENTRO IV   \n",
       "258971           MILPA ALTA              NaN  SAN ANTONIO TECOMITL (PBLO)   \n",
       "258972            IZTACALCO              NaN                  SANTA ANITA   \n",
       "\n",
       "                     fgj_colonia_registro   longitud    latitud  \n",
       "0                       LIBERALES DE 1857 -99.212950  19.394440  \n",
       "1            PUEBLO DE SANTA URSULA COAPA -99.142140  19.313110  \n",
       "2                                 MORELOS -99.121390  19.446150  \n",
       "3                        DEL VALLE CENTRO -99.174950  19.369630  \n",
       "4                                FORESTAL -99.129900  19.559720  \n",
       "...                                   ...        ...        ...  \n",
       "258968                  GUADALUPE TEPEYAC -99.121970  19.472222  \n",
       "258969                       LOS VOLCANES -99.174285  19.269199  \n",
       "258970                             CENTRO -99.134771  19.429240  \n",
       "258971  TENANTITLA (SAN ANTONIO TECOMITL) -99.001603  19.216952  \n",
       "258972                        SANTA ANITA -99.118786  19.402165  \n",
       "\n",
       "[258973 rows x 20 columns]"
      ]
     },
     "execution_count": 109,
     "metadata": {},
     "output_type": "execute_result"
    }
   ],
   "source": [
    "df"
   ]
  },
  {
   "cell_type": "code",
   "execution_count": 110,
   "metadata": {},
   "outputs": [
    {
     "data": {
      "text/plain": [
       "(258973, 20)"
      ]
     },
     "execution_count": 110,
     "metadata": {},
     "output_type": "execute_result"
    }
   ],
   "source": [
    "#Cuantas filas y columnas tiene el set de datos?\n",
    "df.shape"
   ]
  },
  {
   "cell_type": "code",
   "execution_count": 111,
   "metadata": {},
   "outputs": [
    {
     "data": {
      "text/plain": [
       "ao_hechos                   62\n",
       "mes_hechos                  62\n",
       "fecha_hechos                62\n",
       "hora_hechos                 62\n",
       "ao_inicio                    0\n",
       "mes_inicio                   0\n",
       "fecha_inicio                 0\n",
       "hora_inicio                  0\n",
       "delito                       0\n",
       "fiscalia                     0\n",
       "agencia                      0\n",
       "unidad_investigacion       279\n",
       "categoria_delito             0\n",
       "competencia                  0\n",
       "alcaldia_hechos              0\n",
       "municipio_hechos        256371\n",
       "colonia_datos            15721\n",
       "fgj_colonia_registro     14758\n",
       "longitud                     0\n",
       "latitud                      0\n",
       "dtype: int64"
      ]
     },
     "execution_count": 111,
     "metadata": {},
     "output_type": "execute_result"
    }
   ],
   "source": [
    "#Hay columnas con valores nulos?\n",
    "df.isnull().sum()"
   ]
  },
  {
   "cell_type": "code",
   "execution_count": 112,
   "metadata": {},
   "outputs": [],
   "source": [
    "#NO TOCAR ESTA LINEA. ES PARA ELIMINAR VALORES NULOS EN UNA COLUMNA QUE USAREMOS ADELANTE\n",
    "#Llamen df a su dataframe, de lo contrario no va a jalar\n",
    "#Dropear REGISTROS que tengan \"ao_hechos\" nulo\n",
    "df.dropna(subset=['ao_hechos'], inplace=True)"
   ]
  },
  {
   "cell_type": "code",
   "execution_count": 113,
   "metadata": {},
   "outputs": [
    {
     "data": {
      "text/plain": [
       "0"
      ]
     },
     "execution_count": 113,
     "metadata": {},
     "output_type": "execute_result"
    }
   ],
   "source": [
    "#verificar que ya no existan registros nulos para \"ao_hechos\"\n",
    "df[\"ao_hechos\"].isnull().sum()"
   ]
  },
  {
   "cell_type": "code",
   "execution_count": 130,
   "metadata": {},
   "outputs": [
    {
     "data": {
      "text/plain": [
       "288"
      ]
     },
     "execution_count": 130,
     "metadata": {},
     "output_type": "execute_result"
    }
   ],
   "source": [
    "#Cuantos tipos de delito se encuentran registrados en el set de datos (usar columna delito)\n",
    "df[\"delito\"].value_counts().__len__()"
   ]
  },
  {
   "cell_type": "code",
   "execution_count": 115,
   "metadata": {},
   "outputs": [
    {
     "data": {
      "text/plain": [
       "'CUAUHTEMOC'"
      ]
     },
     "execution_count": 115,
     "metadata": {},
     "output_type": "execute_result"
    }
   ],
   "source": [
    "#La alcaldia con mas delitos contando los años 2022 y 2023\n",
    "df[(df[\"ao_hechos\"] == 2022) | (df[\"ao_hechos\"] == 2023)][\"alcaldia_hechos\"].value_counts().idxmax()"
   ]
  },
  {
   "cell_type": "code",
   "execution_count": 116,
   "metadata": {},
   "outputs": [
    {
     "data": {
      "text/plain": [
       "'VIOLENCIA FAMILIAR'"
      ]
     },
     "execution_count": 116,
     "metadata": {},
     "output_type": "execute_result"
    }
   ],
   "source": [
    "#El delito mas frecuente en la alcaldia XOCHIMILCO (usar columna delito)\n",
    "\n",
    "df[df[\"alcaldia_hechos\"] == \"XOCHIMILCO\"][\"delito\"].value_counts().idxmax()"
   ]
  },
  {
   "cell_type": "code",
   "execution_count": 117,
   "metadata": {},
   "outputs": [
    {
     "data": {
      "text/plain": [
       "'PASEOS DE CHURUBUSCO'"
      ]
     },
     "execution_count": 117,
     "metadata": {},
     "output_type": "execute_result"
    }
   ],
   "source": [
    "#La colonia con mas delitos de IZTAPALAPA en 2023\n",
    "df[(df[\"alcaldia_hechos\"] == \"IZTAPALAPA\") & (df[\"ao_hechos\"] == 2023)][\"colonia_datos\"].value_counts().idxmax()"
   ]
  },
  {
   "cell_type": "code",
   "execution_count": 118,
   "metadata": {},
   "outputs": [
    {
     "data": {
      "text/plain": [
       "ROBO DE OBJETOS                                11\n",
       "VIOLENCIA FAMILIAR                              7\n",
       "ROBO A NEGOCIO SIN VIOLENCIA POR FARDEROS       6\n",
       "ENCUBRIMIENTO                                   6\n",
       "FRAUDE                                          5\n",
       "ROBO DE OBJETOS DEL INTERIOR DE UN VEHICULO     4\n",
       "ROBO DE ACCESORIOS DE AUTO                      4\n",
       "Name: delito, dtype: int64"
      ]
     },
     "execution_count": 118,
     "metadata": {},
     "output_type": "execute_result"
    }
   ],
   "source": [
    "#Los 7 delitos mas comunes en la colonia obtenida en el inciso anterior\n",
    "# si no fuera solo en 2023\n",
    "# df[(df[\"alcaldia_hechos\"] == \"IZTAPALAPA\") & (df[\"colonia_datos\"] == \"PASEOS DE CHURUBUSCO\")][\"delito\"].value_counts().head(7)\n",
    "df[(df[\"alcaldia_hechos\"] == \"IZTAPALAPA\") & (df[\"ao_hechos\"] == 2023) & (df[\"colonia_datos\"] == \"PASEOS DE CHURUBUSCO\")][\"delito\"].value_counts().head(7)"
   ]
  },
  {
   "cell_type": "code",
   "execution_count": 119,
   "metadata": {},
   "outputs": [
    {
     "data": {
      "text/plain": [
       "'Mayo'"
      ]
     },
     "execution_count": 119,
     "metadata": {},
     "output_type": "execute_result"
    }
   ],
   "source": [
    "#El mes con mas delitos de 2022 (usar columna 'mes_hechos')\n",
    "df[df[\"ao_hechos\"] == 2022][\"mes_hechos\"].value_counts().idxmax()"
   ]
  },
  {
   "cell_type": "code",
   "execution_count": 120,
   "metadata": {},
   "outputs": [
    {
     "data": {
      "text/plain": [
       "'MILPA ALTA'"
      ]
     },
     "execution_count": 120,
     "metadata": {},
     "output_type": "execute_result"
    }
   ],
   "source": [
    "#La alcaldia con menos delitos registrados en todo el dataset (ignorar \"FUERA DE CDMX\" y \"CDMX\")\n",
    "df[(df[\"alcaldia_hechos\"] != \"FUERA DE CDMX\") & (df[\"alcaldia_hechos\"] != \"CDMX\")][\"alcaldia_hechos\"].value_counts().idxmin()"
   ]
  },
  {
   "cell_type": "code",
   "execution_count": 121,
   "metadata": {},
   "outputs": [
    {
     "data": {
      "text/plain": [
       "'IZTAPALAPA'"
      ]
     },
     "execution_count": 121,
     "metadata": {},
     "output_type": "execute_result"
    }
   ],
   "source": [
    "#Alcaldia con mas delitos de \"BIGAMIA\" en todo el set de datos\n",
    "df[(df[\"alcaldia_hechos\"] != \"FUERA DE CDMX\") & (df[\"alcaldia_hechos\"] != \"CDMX\") & (df[\"delito\"] == \"BIGAMIA\")][\"alcaldia_hechos\"].value_counts().idxmax()"
   ]
  },
  {
   "cell_type": "code",
   "execution_count": 122,
   "metadata": {},
   "outputs": [
    {
     "data": {
      "text/plain": [
       "'IZTAPALAPA'"
      ]
     },
     "execution_count": 122,
     "metadata": {},
     "output_type": "execute_result"
    }
   ],
   "source": [
    "#La alcaldia con mas casos de \"EXTORSION\" en 2022 usar columna \"ao_hechos\"\n",
    "df[(df[\"alcaldia_hechos\"] != \"FUERA DE CDMX\") & (df[\"alcaldia_hechos\"] != \"CDMX\") & (df[\"delito\"] == \"EXTORSION\") & (df[\"ao_hechos\"] == 2022)][\"alcaldia_hechos\"].value_counts().idxmax()"
   ]
  },
  {
   "cell_type": "code",
   "execution_count": 123,
   "metadata": {},
   "outputs": [
    {
     "data": {
      "text/plain": [
       "'Thursday'"
      ]
     },
     "execution_count": 123,
     "metadata": {},
     "output_type": "execute_result"
    }
   ],
   "source": [
    "#El dia de la semana donde mas ROBO A TRANSEUNTE EN VIA PUBLICA CON VIOLENCIA hubo en Iztapalapa en el año 2023\n",
    "#(usar como referencia la columna de fecha hechos)\n",
    "#van a tener que crear uan columna nueva para saber el dia de la semana, guiño guiño\n",
    "df[\"dia\"] = pd.to_datetime(df[\"fecha_hechos\"]).dt.day_name()\n",
    "df[(df[\"alcaldia_hechos\"] == \"IZTAPALAPA\") & (df[\"delito\"] == \"ROBO A TRANSEUNTE EN VIA PUBLICA CON VIOLENCIA\") & (df[\"ao_hechos\"] == 2023)][\"dia\"].value_counts().idxmax()"
   ]
  },
  {
   "cell_type": "code",
   "execution_count": 124,
   "metadata": {},
   "outputs": [
    {
     "data": {
      "text/plain": [
       "PASEOS DE CHURUBUSCO             179\n",
       "SANTA MARTHA ACATITLA_(PBLO)      97\n",
       "LOMAS DE SAN LORENZO II           82\n",
       "SAN LORENZO TEZONCO (PBLO)        72\n",
       "EJTO CONSTITUCIONALISTA           71\n",
       "                                ... \n",
       "ARBOLEDAS                          1\n",
       "CARMEN SERDAN ( U HAB)             1\n",
       "ANTORCHA POPULAR I (U HAB)         1\n",
       "FUENTES DE ZARAGOZA (U HAB)        1\n",
       "PLUTARCO ELIAS CALLES (U HAB)      1\n",
       "Name: colonia_datos, Length: 276, dtype: int64"
      ]
     },
     "execution_count": 124,
     "metadata": {},
     "output_type": "execute_result"
    }
   ],
   "source": [
    "#En que colonias de Iztapalapa ocurrieron los robos en el dia con mas robos?\n",
    "\n",
    "# en 2023\n",
    "# df[(df[\"dia\"] == \"Thursday\") & (df[\"alcaldia_hechos\"] == \"IZTAPALAPA\") & (df[\"ao_hechos\"] == 2023)][\"colonia_datos\"].value_counts()\n",
    "\n",
    "df[(df[\"dia\"] == \"Thursday\") & (df[\"alcaldia_hechos\"] == \"IZTAPALAPA\")][\"colonia_datos\"].value_counts()\n"
   ]
  },
  {
   "cell_type": "code",
   "execution_count": 125,
   "metadata": {},
   "outputs": [
    {
     "data": {
      "text/plain": [
       "IZTAPALAPA                2469\n",
       "CUAUHTEMOC                2441\n",
       "GUSTAVO A. MADERO         1657\n",
       "COYOACAN                  1208\n",
       "BENITO JUAREZ             1152\n",
       "ALVARO OBREGON            1054\n",
       "MIGUEL HIDALGO            1004\n",
       "TLALPAN                    970\n",
       "VENUSTIANO CARRANZA        940\n",
       "IZTACALCO                  778\n",
       "AZCAPOTZALCO               775\n",
       "XOCHIMILCO                 531\n",
       "TLAHUAC                    521\n",
       "LA MAGDALENA CONTRERAS     335\n",
       "CUAJIMALPA DE MORELOS      282\n",
       "MILPA ALTA                 168\n",
       "FUERA DE CDMX              167\n",
       "CDMX                        51\n",
       "Name: alcaldia_hechos, dtype: int64"
      ]
     },
     "execution_count": 125,
     "metadata": {},
     "output_type": "execute_result"
    }
   ],
   "source": [
    "#Asumiendo que vivimos en un mundo donde se paga los dias 1 y 15 de cada mes, determinar que \n",
    "#alcaldia vio mas delitos durante dias de paga de quincena en el año 2022\n",
    "df[\"dia\"] = pd.to_datetime(df[\"fecha_hechos\"])\n",
    "\n",
    "df[((df[\"dia\"].dt.day == 1) | (df[\"dia\"].dt.day == 15)) & (df[\"ao_hechos\"] == 2022)][\"alcaldia_hechos\"].value_counts()\n"
   ]
  },
  {
   "cell_type": "code",
   "execution_count": 126,
   "metadata": {},
   "outputs": [
    {
     "data": {
      "text/plain": [
       "PASEOS DE CHURUBUSCO            64\n",
       "EJTO CONSTITUCIONALISTA         38\n",
       "SANTA MARTHA ACATITLA_(PBLO)    37\n",
       "SAN LORENZO TEZONCO (PBLO)      32\n",
       "SAN MIGUEL (BARR)               31\n",
       "Name: colonia_datos, dtype: int64"
      ]
     },
     "execution_count": 126,
     "metadata": {},
     "output_type": "execute_result"
    }
   ],
   "source": [
    "#Cuales son las 5 colonias que mas delitos vieron en dias de quincena en el año 2022 en la alcaldia resultante de la celda anterior?\n",
    "df[((df[\"dia\"].dt.day == 1) | (df[\"dia\"].dt.day == 15)) & (df[\"ao_hechos\"] == 2022) & (df[\"alcaldia_hechos\"] == \"IZTAPALAPA\")][\"colonia_datos\"].value_counts().head(5)\n",
    "\n"
   ]
  }
 ],
 "metadata": {
  "kernelspec": {
   "display_name": "Python 3",
   "language": "python",
   "name": "python3"
  },
  "language_info": {
   "codemirror_mode": {
    "name": "ipython",
    "version": 3
   },
   "file_extension": ".py",
   "mimetype": "text/x-python",
   "name": "python",
   "nbconvert_exporter": "python",
   "pygments_lexer": "ipython3",
   "version": "3.11.2"
  },
  "orig_nbformat": 4,
  "vscode": {
   "interpreter": {
    "hash": "949777d72b0d2535278d3dc13498b2535136f6dfe0678499012e853ee9abcab1"
   }
  }
 },
 "nbformat": 4,
 "nbformat_minor": 2
}
