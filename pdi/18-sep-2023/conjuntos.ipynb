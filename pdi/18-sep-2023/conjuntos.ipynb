{
 "cells": [
  {
   "cell_type": "code",
   "execution_count": 2,
   "metadata": {},
   "outputs": [
    {
     "name": "stdout",
     "output_type": "stream",
     "text": [
      "<class 'tuple'>\n",
      "<class 'dict'>\n",
      "<class 'list'>\n"
     ]
    }
   ],
   "source": [
    "# Conjuntos python\n",
    "\n",
    "print(type(()))\n",
    "print(type({}))\n",
    "print(type([]))\n"
   ]
  },
  {
   "cell_type": "code",
   "execution_count": 3,
   "metadata": {},
   "outputs": [
    {
     "data": {
      "text/plain": [
       "set"
      ]
     },
     "execution_count": 3,
     "metadata": {},
     "output_type": "execute_result"
    }
   ],
   "source": [
    "x = {1,2,3,4}\n",
    "y = {3,4,5,6,7}\n",
    "type(x)"
   ]
  },
  {
   "cell_type": "code",
   "execution_count": 4,
   "metadata": {},
   "outputs": [
    {
     "name": "stdout",
     "output_type": "stream",
     "text": [
      "{1, 2, 3, 4}\n"
     ]
    }
   ],
   "source": [
    "print(x)"
   ]
  },
  {
   "cell_type": "code",
   "execution_count": 5,
   "metadata": {},
   "outputs": [
    {
     "data": {
      "text/plain": [
       "{3, 4}"
      ]
     },
     "execution_count": 5,
     "metadata": {},
     "output_type": "execute_result"
    }
   ],
   "source": [
    "x.intersection(y)"
   ]
  },
  {
   "cell_type": "code",
   "execution_count": 6,
   "metadata": {},
   "outputs": [
    {
     "data": {
      "text/plain": [
       "{3, 4}"
      ]
     },
     "execution_count": 6,
     "metadata": {},
     "output_type": "execute_result"
    }
   ],
   "source": [
    "#x intersección y\n",
    "x & y"
   ]
  },
  {
   "cell_type": "code",
   "execution_count": 7,
   "metadata": {},
   "outputs": [
    {
     "name": "stdout",
     "output_type": "stream",
     "text": [
      "vecindad4 2\n",
      "vecindad8 4\n"
     ]
    }
   ],
   "source": [
    "import numpy as np\n",
    "arr = np.array(\n",
    "    ((0,1,1),\n",
    "     (1,1,1),\n",
    "     (1,1,1)))\n",
    "\n",
    "def vecindad4(matriz, fila, columna):\n",
    "    direcciones = [(0, 1), (1, 0), (0, -1), (-1, 0)]\n",
    "    \n",
    "    contador = 0\n",
    "    \n",
    "    filas, columnas = len(matriz), len(matriz[0])\n",
    "    \n",
    "    for direccion in direcciones:\n",
    "        nueva_fila = fila + direccion[0]\n",
    "        nueva_columna = columna + direccion[1]\n",
    "        \n",
    "        if 0 <= nueva_fila < filas and 0 <= nueva_columna < columnas:\n",
    "            if matriz[nueva_fila][nueva_columna] == 1:\n",
    "                contador += 1\n",
    "    \n",
    "    return contador\n",
    "\n",
    "\n",
    "def vecindad8(matriz, fila, columna):\n",
    "    direcciones = [(0, 1), (1, 0), (0, -1), (-1, 0), (1,1), (-1, -1), (1, -1), (-1, 1)]\n",
    "    \n",
    "    contador = 0\n",
    "    \n",
    "    filas, columnas = len(matriz), len(matriz[0])\n",
    "    \n",
    "    for direccion in direcciones:\n",
    "        nueva_fila = fila + direccion[0]\n",
    "        nueva_columna = columna + direccion[1]\n",
    "        \n",
    "        if 0 <= nueva_fila < filas and 0 <= nueva_columna < columnas:\n",
    "            if matriz[nueva_fila][nueva_columna] == 1:\n",
    "                contador += 1\n",
    "    \n",
    "    return contador\n",
    "\n",
    "print(\"vecindad4\", vecindad4(arr, 1,0))\n",
    "print(\"vecindad8\", vecindad8(arr, 1,0) )\n"
   ]
  }
 ],
 "metadata": {
  "kernelspec": {
   "display_name": ".venv",
   "language": "python",
   "name": "python3"
  },
  "language_info": {
   "codemirror_mode": {
    "name": "ipython",
    "version": 3
   },
   "file_extension": ".py",
   "mimetype": "text/x-python",
   "name": "python",
   "nbconvert_exporter": "python",
   "pygments_lexer": "ipython3",
   "version": "3.11.4"
  },
  "orig_nbformat": 4
 },
 "nbformat": 4,
 "nbformat_minor": 2
}
