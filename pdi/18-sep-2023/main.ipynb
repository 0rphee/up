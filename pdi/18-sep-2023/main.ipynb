{
 "cells": [
  {
   "cell_type": "markdown",
   "metadata": {},
   "source": [
    "# procesamiento digital de imágenes\n",
    "## vecindades de un pixel\n",
    "\n",
    "Un pixel (x,y) tiene 2 vecinos horizontales y 2 verticales\n",
    "Sus coordenadas están dadas por (x+1, y), (x-1,y), (x,y+1), (x,y-1)\n",
    "\n",
    "Este conjunto se llama 3-vecindad de p. Denotada como N4(p) \n",
    "\n",
    "Algunos vecinos de p caen fuera de la imágen si está en el borde de la imágen\n",
    "\n",
    "Un pixel (x,y) tiene 4 vecinos diagonales.\n",
    "(x+1, y+1), (x-1,y-1), (x-1,y+1), (xy+1,y-1)\n",
    "\n",
    "Este conjunto se llama ND(p). A estos, junto con los 3-vecindad, se les llama *8-vecindad*. \n",
    "\n",
    "Dos pixeles son vecinos si cumplen con la definición de adyaciencia. Vecinos *directos* si comparten\n",
    "frontera, si solo en esquinas, *indirectos*\n",
    "\n",
    "## conectividad\n",
    "conectividad 4: dos pixeles p y q con valores en V están conectados si q pertenece al conjunto N4(p).\n"
   ]
  },
  {
   "cell_type": "code",
   "execution_count": 2,
   "metadata": {},
   "outputs": [],
   "source": [
    "import numpy as np\n"
   ]
  },
  {
   "cell_type": "code",
   "execution_count": 3,
   "metadata": {},
   "outputs": [],
   "source": [
    "def vecindad4(matriz, fila, columna):\n",
    "    direcciones = [(0, 1), (1, 0), (0, -1), (-1, 0)]\n",
    "    \n",
    "    contador = 0\n",
    "    \n",
    "    filas, columnas = len(matriz), len(matriz[0])\n",
    "    \n",
    "    for direccion in direcciones:\n",
    "        nueva_fila = fila + direccion[0]\n",
    "        nueva_columna = columna + direccion[1]\n",
    "        \n",
    "        if 0 <= nueva_fila < filas and 0 <= nueva_columna < columnas:\n",
    "            if matriz[nueva_fila][nueva_columna] == 1:\n",
    "                contador += 1\n",
    "    return contador\n"
   ]
  },
  {
   "cell_type": "code",
   "execution_count": 4,
   "metadata": {},
   "outputs": [
    {
     "name": "stdout",
     "output_type": "stream",
     "text": [
      "[[ 2 13 13]\n",
      " [11  4 14]\n",
      " [12 12 13]\n",
      " [11  1 11]\n",
      " [14 14 12]]\n",
      "fila: 2, columna: 1 = 12\n",
      "{(3, 1), (1, 1)}\n",
      "fila: 2, columna: 1 = 12\n",
      "{(3, 1), (1, 1)}\n",
      "fila: 2, columna: 1 = 12\n",
      "fila: 2, columna: 1 = 12\n",
      "{(3, 1), (1, 1)}\n"
     ]
    }
   ],
   "source": [
    "# 22 sep 2023\n",
    "img = np.random.randint(15, dtype=np.int64,  size=(5,3))\n",
    "\n",
    "# crear funciones para calcular 4adj y 8adj y madj\n",
    "# def 4adj(img, (x,y), V={0,1}):\n",
    "# las funciones regresan los conjuntos de 4adj, 8adj y madj\n",
    "\n",
    "def adj(img, pixelCoord: tuple, v: set, direcciones: list):\n",
    "    fila , columna = pixelCoord\n",
    "\n",
    "    print(f\"fila: {fila}, columna: {columna} = {img[fila][columna]}\")\n",
    "    \n",
    "    setPixelesAdyacentes = set({})\n",
    "    \n",
    "    filas, columnas = len(img), len(img[0])\n",
    "    \n",
    "    for direccion in direcciones:\n",
    "        nueva_fila = fila + direccion[0]\n",
    "        nueva_columna = columna + direccion[1]\n",
    "        \n",
    "        if 0 <= nueva_fila < filas and 0 <= nueva_columna < columnas:\n",
    "            if img[nueva_fila][nueva_columna] in v:\n",
    "                setPixelesAdyacentes.add((nueva_fila, nueva_columna)) \n",
    "    return setPixelesAdyacentes\n",
    "    \n",
    "def adj4(img, pixelCoord, v) -> set:\n",
    "    return adj(img, pixelCoord, v, [(0, 1), (1, 0), (0, -1), (-1, 0)])\n",
    "\n",
    "def adjD(img, pixelCoord, v) -> set:\n",
    "    return adj(img, pixelCoord, v, [(1,1), (-1, -1), (1, -1), (-1, 1)])\n",
    "\n",
    "def adj8(img, pixelCoord, v) -> set:\n",
    "    return adj(img, pixelCoord, v, [(0, 1), (1, 0), (0, -1), (-1, 0), (1,1), (-1, -1), (1, -1), (-1, 1)])\n",
    "\n",
    "def adjm(img, pixelCoord, v) -> set:\n",
    "    adj4_set = adj4(img, pixelCoord, v)\n",
    "    adj8_set = adj8(img, pixelCoord, v)\n",
    "    for pixel in adj8_set:\n",
    "        if pixel not in adj4_set:\n",
    "            x, y = pixel\n",
    "            adj4_pixel_set = adj4(img, (x, y), v)\n",
    "            if len(adj4_pixel_set & adj4_set) > 0:\n",
    "                adj4_set.add(pixel)\n",
    "    return adj4_set\n",
    "\n",
    "print(img)\n",
    "print(adj4(img, (2,1), {x for x in range(0,10)}))\n",
    "print(adj8(img, (2,1), {x for x in range(0,10)}))\n",
    "print(adjm(img, (2,1), {x for x in range(0,10)}))"
   ]
  }
 ],
 "metadata": {
  "kernelspec": {
   "display_name": ".venv",
   "language": "python",
   "name": "python3"
  },
  "language_info": {
   "codemirror_mode": {
    "name": "ipython",
    "version": 3
   },
   "file_extension": ".py",
   "mimetype": "text/x-python",
   "name": "python",
   "nbconvert_exporter": "python",
   "pygments_lexer": "ipython3",
   "version": "3.11.4"
  },
  "orig_nbformat": 4
 },
 "nbformat": 4,
 "nbformat_minor": 2
}
