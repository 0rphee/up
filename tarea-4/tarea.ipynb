{
 "cells": [
  {
   "cell_type": "code",
   "execution_count": 25,
   "metadata": {},
   "outputs": [],
   "source": [
    "import pandas as pd\n",
    "\n",
    "class hpApi():\n",
    "    def __init__(self) -> None:\n",
    "        self.urlBase = \"https://hp-api.onrender.com/api\"\n",
    "\n",
    "    def personajes(self):\n",
    "        url = self.urlBase + \"/characters\"\n",
    "        return pd.read_json(url)\n",
    "    def hechizos(self):\n",
    "        url = self.urlBase + \"/spells\" \n",
    "        return pd.read_json(url)\n",
    "    def personajes_por_casa(self):\n",
    "        return self.personajes().value_counts(\"house\")\n",
    "    def personajes_por_genero(self):\n",
    "        return self.personajes().value_counts(\"gender\")\n",
    "    def ancestry(self):\n",
    "        return self.personajes().value_counts(\"ancestry\")\n",
    "    def personajes_vivos_muertos(self, vivos: bool) -> pd.DataFrame:\n",
    "        return self.personajes()[self.personajes()[\"alive\"] == vivos]\n",
    "    def filtrar_por_casa(self, casa: str) -> pd.DataFrame:\n",
    "        url = f\"{self.urlBase}/characters/house/{casa}\"\n",
    "        if pd.read_json(url).empty:\n",
    "            print(\"No existe esa casa\")\n",
    "        return pd.read_json(url)\n",
    "\n",
    "api = hpApi()"
   ]
  },
  {
   "cell_type": "code",
   "execution_count": null,
   "metadata": {},
   "outputs": [],
   "source": [
    "api.personajes()"
   ]
  },
  {
   "cell_type": "code",
   "execution_count": null,
   "metadata": {},
   "outputs": [],
   "source": [
    "api.hechizos()"
   ]
  },
  {
   "cell_type": "code",
   "execution_count": null,
   "metadata": {},
   "outputs": [],
   "source": [
    "api.personajes_por_casa()"
   ]
  },
  {
   "cell_type": "code",
   "execution_count": null,
   "metadata": {},
   "outputs": [],
   "source": [
    "\n",
    "api.personajes_por_genero()"
   ]
  },
  {
   "cell_type": "code",
   "execution_count": null,
   "metadata": {},
   "outputs": [],
   "source": [
    "api.ancestry()"
   ]
  },
  {
   "cell_type": "code",
   "execution_count": null,
   "metadata": {},
   "outputs": [],
   "source": [
    "api.personajes_vivos_muertos(True)"
   ]
  },
  {
   "cell_type": "code",
   "execution_count": null,
   "metadata": {},
   "outputs": [],
   "source": [
    "api.filtrar_por_casa(\"Gryffindor\")"
   ]
  }
 ],
 "metadata": {
  "kernelspec": {
   "display_name": ".venv",
   "language": "python",
   "name": "python3"
  },
  "language_info": {
   "codemirror_mode": {
    "name": "ipython",
    "version": 3
   },
   "file_extension": ".py",
   "mimetype": "text/x-python",
   "name": "python",
   "nbconvert_exporter": "python",
   "pygments_lexer": "ipython3",
   "version": "3.11.2"
  },
  "orig_nbformat": 4
 },
 "nbformat": 4,
 "nbformat_minor": 2
}
